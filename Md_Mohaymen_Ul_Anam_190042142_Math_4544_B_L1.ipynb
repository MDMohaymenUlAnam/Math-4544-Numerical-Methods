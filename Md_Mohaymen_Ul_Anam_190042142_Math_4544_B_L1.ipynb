{
  "nbformat": 4,
  "nbformat_minor": 0,
  "metadata": {
    "colab": {
      "provenance": [],
      "collapsed_sections": [],
      "include_colab_link": true
    },
    "kernelspec": {
      "name": "python3",
      "display_name": "Python 3"
    },
    "language_info": {
      "name": "python"
    }
  },
  "cells": [
    {
      "cell_type": "markdown",
      "metadata": {
        "id": "view-in-github",
        "colab_type": "text"
      },
      "source": [
        "<a href=\"https://colab.research.google.com/github/MDMohaymenUlAnam/Numerical-Methods/blob/main/Md_Mohaymen_Ul_Anam_190042142_Math_4544_B_L1.ipynb\" target=\"_parent\"><img src=\"https://colab.research.google.com/assets/colab-badge.svg\" alt=\"Open In Colab\"/></a>"
      ]
    },
    {
      "cell_type": "markdown",
      "metadata": {
        "id": "pQkkr35QlSMM"
      },
      "source": [
        "# **Lab 2: Newton-Raphson method**\n",
        "The Newton-Raphson method is another method of finding roots of a nonlinear function. Unlike the Bisection and False position method, it falls under the category of **Open methods** due to the fact that we only need one initial guess that does not have to bracket the actual root and may be taken on either side of the root.\n",
        "\n",
        "In today's lab, we will be implementing the Newton-Raphson method in python. We will be considering the function f(x) as an array of coefficients, for instance if we want to have f(x) = x<sup>3</sup>+x-2, then in python we will create an array as follows:"
      ]
    },
    {
      "cell_type": "code",
      "metadata": {
        "id": "BkuHfuYolFj1"
      },
      "source": [
        "f = [1,0,1,-2]"
      ],
      "execution_count": null,
      "outputs": []
    },
    {
      "cell_type": "markdown",
      "metadata": {
        "id": "QlVEtB92p2iT"
      },
      "source": [
        "Note that your implementation should be able to handle the array f of any size,which means it should be able to find the root of any given polynomial. But for testing purposes, you can use the array f given here.\n",
        "\n",
        "Next, you will need to create a user-defined function as follows\n",
        "```\n",
        "func(f, x)\n",
        "```\n",
        "This function will take the coefficent array f and a point x as input and evaluate the value of the function at that point x using a loop and return that value. This function will be called in the other function that you will implement, which is as follows:\n",
        "```\n",
        "newtonraphson(f, Xi, epsilon)\n",
        "```\n",
        "This function will return the root of the equation represented by the array f and in case it does not reach the root exactly then it will return the close enough value to the root that has an absolute relative approximate error of at most epsilon (%)."
      ]
    },
    {
      "cell_type": "code",
      "metadata": {
        "colab": {
          "base_uri": "https://localhost:8080/"
        },
        "id": "2qWLJQbdsTEv",
        "outputId": "4ee60d9c-e7c1-42fa-ab71-f7b28f981521"
      },
      "source": [
        "#Execute this cell to test how the function works\n",
        "\n",
        "def func(a,b):\n",
        "  result = a + b\n",
        "  return result\n",
        "\n",
        "print(func(1,2))"
      ],
      "execution_count": null,
      "outputs": [
        {
          "output_type": "stream",
          "name": "stdout",
          "text": [
            "3\n"
          ]
        }
      ]
    },
    {
      "cell_type": "markdown",
      "metadata": {
        "id": "Q3VKrCkMsqQm"
      },
      "source": [
        "Note that in python, we do not need to specify the data type for parameters nor any return type for the function as these are implicitly determined. Also, note the colon (:) after the function signature. Indentation matters in python, since the consecutive codes having same indentation will be considered as a single block."
      ]
    },
    {
      "cell_type": "markdown",
      "metadata": {
        "id": "zji3yZuNw_Pu"
      },
      "source": [
        "##Task 1\n",
        "Implement the Newton-Raphson method for the above function and write a script for testing its implementation. The actual root is 1, and you can take the initial guess as 2."
      ]
    },
    {
      "cell_type": "code",
      "metadata": {
        "id": "F8R7WQ6AtrQP"
      },
      "source": [
        "Xi = 2\n",
        "epsilon = 0.01\n",
        "\n",
        "# Write a function for evaluating the derivative of the polynomial given by array f\n",
        "def derivative(f, x):\n",
        "  list = []\n",
        "  for i in range(0, len(f)-1):\n",
        "    list.append((len(f)-1) * f[i])\n",
        "\n",
        "\n",
        "\n",
        "\n",
        "# Complete the following function\n",
        "  def newtonraphson(f, Xi, epsilon):\n",
        "  # write your implementation here\n",
        "    h = Xi - (func(f,Xi)/derivative(f,Xi))\n",
        "    while(abs((h - Xi)/Xi)> epsilon):\n",
        "      Xi = h\n",
        "\n",
        "      h = Xi - (func(f,Xi)/derivative(f,Xi))\n",
        "      return h\n",
        "       \n",
        "      \n",
        "\n",
        "\n",
        "# Write a script here for calling the above function\n",
        "    print(newtonraphson(f, Xi, epsilon))"
      ],
      "execution_count": null,
      "outputs": []
    },
    {
      "cell_type": "markdown",
      "metadata": {
        "id": "aeHe7669wBy3"
      },
      "source": [
        "## Task 2\n",
        "We can plot graphs in python using the matplotlib library. An example of plotting graphs is shown here"
      ]
    },
    {
      "cell_type": "code",
      "metadata": {
        "colab": {
          "base_uri": "https://localhost:8080/",
          "height": 295
        },
        "id": "ijv7dJTcyz3g",
        "outputId": "8656efc1-fbd7-4def-eb3d-639f804e8c0c"
      },
      "source": [
        "import numpy as np\n",
        "import matplotlib.pyplot as plt\n",
        "\n",
        "iters = np.arange(0, 5) #start=0, stop=5, and since no step is given, so default step=1\n",
        "vals = np.arange(100, 200, 20) #start=100, stop=200, step=20\n",
        "\n",
        "plt.plot(iters, vals)\n",
        "plt.title(\"Iterations vs values plot\")\n",
        "plt.xlabel(\"Iteration\")\n",
        "plt.ylabel(\"Value\")\n",
        "plt.show()"
      ],
      "execution_count": null,
      "outputs": [
        {
          "output_type": "display_data",
          "data": {
            "image/png": "[encoded data removed]",
            "text/plain": [
              "<Figure size 432x288 with 1 Axes>"
            ]
          },
          "metadata": {
            "needs_background": "light"
          }
        }
      ]
    },
    {
      "cell_type": "markdown",
      "metadata": {
        "id": "qfiOgreb1cY_"
      },
      "source": [
        "Generate a plot of **iteration vs xmid** for the bisection method function you implemented earlier."
      ]
    },
    {
      "cell_type": "code",
      "metadata": {
        "id": "NwhzMXh_tUAT"
      },
      "source": [
        "#Write the code for generating the error curve here\n"
      ],
      "execution_count": null,
      "outputs": []
    }
  ]
}