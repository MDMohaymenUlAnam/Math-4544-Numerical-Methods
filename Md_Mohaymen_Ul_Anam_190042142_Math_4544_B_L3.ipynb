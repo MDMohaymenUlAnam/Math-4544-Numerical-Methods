{
  "nbformat": 4,
  "nbformat_minor": 0,
  "metadata": {
    "colab": {
      "provenance": [],
      "collapsed_sections": [],
      "include_colab_link": true
    },
    "kernelspec": {
      "name": "python3",
      "display_name": "Python 3"
    },
    "language_info": {
      "name": "python"
    }
  },
  "cells": [
    {
      "cell_type": "markdown",
      "metadata": {
        "id": "view-in-github",
        "colab_type": "text"
      },
      "source": [
        "<a href=\"https://colab.research.google.com/github/MDMohaymenUlAnam/Numerical-Methods/blob/main/Md_Mohaymen_Ul_Anam_190042142_Math_4544_B_L3.ipynb\" target=\"_parent\"><img src=\"https://colab.research.google.com/assets/colab-badge.svg\" alt=\"Open In Colab\"/></a>"
      ]
    },
    {
      "cell_type": "markdown",
      "source": [
        "# **Lab 3 : Lagrangian Interpolation**<br>\n",
        "\n",
        "Interpolation is the process of estimating unknown data that lies within the range of some known data. The **Lagrangian Interpolation** is one of the methods of performing this task. In order to interpolate unknown data, one needs to define a model that would fit the known data and based on that model, one would obtain the unknown data. This model would basically be a function that tries to satisfy the known data points. There can be various types of functions that may satisfy the same given data points, but for interpolation, we usually choose **polynomials** as interpolating functions due to the fact that polynomials are very easy to evaluate, differentiate and integrate.\n",
        "\n",
        "In today's lab, we will be implementing the **Lagrangian Interpolation** in python. To test our implementation, we will be using the same data that we used during our class lectures. Run the following cell to load the known data points:\n"
      ],
      "metadata": {
        "id": "Dex_lDl5gUKB"
      }
    },
    {
      "cell_type": "code",
      "source": [
        "t = [0, 10, 15, 20, 22.5, 30]\n",
        "v = [0, 227.04, 362.78, 517.35, 602.97, 901.67]"
      ],
      "metadata": {
        "id": "_QpvT2CYjART"
      },
      "execution_count": null,
      "outputs": []
    },
    {
      "cell_type": "markdown",
      "source": [
        "##Task 1\n",
        "Design a utility function that will be called in the Lagrangian function. The purpose of this function will be to find the n+1 closest points to the unknown value t_new where we want to interpolate the data, where n is the order of the interpolating polynomial. The function to be implemented is as follows:"
      ],
      "metadata": {
        "id": "_XU-vXFFzj4T"
      }
    },
    {
      "cell_type": "code",
      "source": [
        "import sys\n",
        "\n",
        "def NearestPoints(t, v, n, t_new):\n",
        "  #Write your implementation here\n",
        "  \n",
        "   t_nearest,v_nearest = [-1]*(n+1), [-1]*(n+1)\n",
        "   diffs = []\n",
        "    \n",
        "    \n",
        "   for x in t:\n",
        "     diffs.append(abs(x-t_new))\n",
        "       \n",
        "  \n",
        "   for i in range(0,n+1):\n",
        "\n",
        "     index_t = diffs.index(min(diffs))\n",
        "     diffs[index_t] = 99999\n",
        "        \n",
        "\n",
        "     t_nearest[i] = t[index_t]\n",
        "     v_nearest[i] = v[index_t]\n",
        "\n",
        "        \n",
        "   return t_nearest, v_nearest;\n",
        "\n",
        "\n",
        "\n",
        "  "
      ],
      "metadata": {
        "id": "xv0ziIB60ET8"
      },
      "execution_count": null,
      "outputs": []
    },
    {
      "cell_type": "markdown",
      "source": [
        "The above function is supposed to return two vectors, say t_nearest and v_nearest consisting of n+1 elements each. For testing the working of the function, we can print the data and see what we are getting. Run the following cell to check this:"
      ],
      "metadata": {
        "id": "LHxyRNGa0RDb"
      }
    },
    {
      "cell_type": "code",
      "source": [
        "t = [0, 10, 15, 20, 22.5, 30]\n",
        "v = [0, 227.04, 362.78, 517.35, 602.97, 901.67]\n",
        "\n",
        "n = 1\n",
        "t_new = 16\n",
        "\n",
        "t_nearest, v_nearest = NearestPoints(t, v, n, t_new)\n",
        "print(t_nearest)\n",
        "print(v_nearest)"
      ],
      "metadata": {
        "id": "Ls-vZyV50zgq",
        "colab": {
          "base_uri": "https://localhost:8080/"
        },
        "outputId": "49dffe7c-affb-438b-e58a-7764da2df767"
      },
      "execution_count": null,
      "outputs": [
        {
          "output_type": "stream",
          "name": "stdout",
          "text": [
            "[15, 20]\n",
            "[362.78, 517.35]\n"
          ]
        }
      ]
    },
    {
      "cell_type": "markdown",
      "source": [
        "##Task 2\n",
        "Now your task is to design a generalized function that takes the given data as parameters as well as the order (n) of the polynomial and uses the Lagrangian Polynomial to interpolate the unknown data at t_new. The function should return the array of the Lagrangian constants $L_0, L_1$ and so on. The following cell contains the function to be implemented:"
      ],
      "metadata": {
        "id": "GzKLR0nkj32g"
      }
    },
    {
      "cell_type": "code",
      "source": [
        "def Lagrangian(t_nearest, v_nearest, n, t_new):\n",
        "  #Write your implementation here\n",
        "\n",
        "  l_array = []\n",
        "  for i in range(0,n+1):\n",
        " \n",
        "        # Compute individual terms of above formula\n",
        "      lan_total = 1\n",
        "      \n",
        "      for j in range(0,n+1):\n",
        "          if (j != i):\n",
        "              lan_total *= (t_new - t_nearest[j])/ (t_nearest[i]-t_nearest[j])\n",
        "              l_array.append(lan_total)\n",
        " \n",
        "       \n",
        "        \n",
        "  return l_array\n",
        "L = Lagrangian(t_nearest, v_nearest, n, t_new)\n",
        "print(L)\n",
        "\n",
        "\n",
        "  \n"
      ],
      "metadata": {
        "id": "2m1trUT_k5pi",
        "colab": {
          "base_uri": "https://localhost:8080/"
        },
        "outputId": "5f1e8c03-e6ad-49be-e31e-c45036c50454"
      },
      "execution_count": null,
      "outputs": [
        {
          "output_type": "stream",
          "name": "stdout",
          "text": [
            "[0.8, 0.2]\n"
          ]
        }
      ]
    },
    {
      "cell_type": "markdown",
      "source": [
        "Note that the above function will at first need to find a number of closest points to the unknown data (t_new), and this number will vary depending on the order (n) of the polynomial that we want to use as the interpolating function. So you will have to call the function you implemented in Task 1 inside this function. The Lagrangian constants returned by the previous function would be used by another function that evaluates the results of the unknown data based on the Lagrangian constants. For that, implement the following function:"
      ],
      "metadata": {
        "id": "vcJ2VMvplfpw"
      }
    },
    {
      "cell_type": "code",
      "source": [
        "L = Lagrangian(t_nearest, v_nearest, n, t_new)\n",
        "def evalLagrangian(L, v_nearest):\n",
        "  #Write your implementation here\n",
        "  total = 0\n",
        "\n",
        "  for i in range(0,n+1):\n",
        "    total += (L[i]*v_nearest[i])\n",
        "  return total\n",
        "temp = evalLagrangian(L, v_nearest)\n",
        "print(temp)\n"
      ],
      "metadata": {
        "id": "3qFvKsx0Ewcw",
        "colab": {
          "base_uri": "https://localhost:8080/"
        },
        "outputId": "c59f71dc-5591-47f5-e2d5-323baba8e591"
      },
      "execution_count": null,
      "outputs": [
        {
          "output_type": "stream",
          "name": "stdout",
          "text": [
            "393.694\n"
          ]
        }
      ]
    },
    {
      "cell_type": "markdown",
      "source": [
        "##Task 3\n",
        "Now, test the function using different order of polynomials, setting n = 1 to 5 and produce the absolute relative approximate error at each step and generate a graph from these values."
      ],
      "metadata": {
        "id": "HhsqLMYYpD8S"
      }
    },
    {
      "cell_type": "code",
      "source": [
        "#Write your code here for finding the relative approximate errors for different orders of the polynomial\n",
        "\n",
        "import numpy as np\n",
        "import matplotlib.pyplot as plt\n",
        "\n",
        "errors = []\n",
        "iter = []\n",
        "valold = temp\n",
        "print(valold)\n",
        "\n",
        "for i in range(1,5):\n",
        "  t_nearest, v_nearest, = NearestPoints(t,v,i+1,t_new)\n",
        "\n",
        "  valnew = evalLagrangian(Lagrangian(t_nearest, v_nearest,i+1,t_new) ,v_nearest)\n",
        "  iter.append(i)\n",
        "  errors.append((abs(valnew - valold)/valnew) * 100)\n",
        "  varold = valnew\n",
        "\n",
        "\n",
        "plt.plot(iter,errors)\n",
        "plt.title(\"iteration vs error plot\")\n",
        "plt.xlabel(\"iteration\")\n",
        "plt.ylabel(\"error\")\n",
        "plt.show()\n"
      ],
      "metadata": {
        "id": "ShRMjjHSm-dq",
        "colab": {
          "base_uri": "https://localhost:8080/",
          "height": 312
        },
        "outputId": "369237e8-1c56-491b-a30e-48d8314fe7c5"
      },
      "execution_count": null,
      "outputs": [
        {
          "output_type": "stream",
          "name": "stdout",
          "text": [
            "393.694\n"
          ]
        },
        {
          "output_type": "display_data",
          "data": {
            "text/plain": [
              "<Figure size 432x288 with 1 Axes>"
            ],
            "image/png": "[encoded data removed]"
          },
          "metadata": {
            "needs_background": "light"
          }
        }
      ]
    },
    {
      "cell_type": "code",
      "source": [],
      "metadata": {
        "id": "R-UR7SS7faTe"
      },
      "execution_count": null,
      "outputs": []
    }
  ]
}